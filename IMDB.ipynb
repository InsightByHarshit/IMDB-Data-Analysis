{
  "nbformat": 4,
  "nbformat_minor": 0,
  "metadata": {
    "colab": {
      "provenance": [],
      "authorship_tag": "ABX9TyPYkEyHMnNr4aoY24x0c1o8",
      "include_colab_link": true
    },
    "kernelspec": {
      "name": "python3",
      "display_name": "Python 3"
    },
    "language_info": {
      "name": "python"
    }
  },
  "cells": [
    {
      "cell_type": "markdown",
      "metadata": {
        "id": "view-in-github",
        "colab_type": "text"
      },
      "source": [
        "<a href=\"https://colab.research.google.com/github/InsightByHarshit/IMDB-Data-Analysis/blob/main/IMDB.ipynb\" target=\"_parent\"><img src=\"https://colab.research.google.com/assets/colab-badge.svg\" alt=\"Open In Colab\"/></a>"
      ]
    },
    {
      "cell_type": "code",
      "execution_count": 2,
      "metadata": {
        "id": "r8g8mSoDvQGZ"
      },
      "outputs": [],
      "source": [
        "import pandas as pd\n",
        "import numpy as np\n",
        "import matplotlib.pyplot as plt\n",
        "import seaborn as sns\n",
        "\n",
        "# Load the dataset\n",
        "\n",
        "data = pd.read_csv('Copy of imdb_data.csv')\n"
      ]
    },
    {
      "cell_type": "markdown",
      "source": [
        "The **info()** method in a pandas DataFrame provides a concise summary of the DataFrame's structure. It is particularly useful for quickly understanding the data's size, data types, and missing values."
      ],
      "metadata": {
        "id": "cY4Pwr4VJmKy"
      }
    },
    {
      "cell_type": "code",
      "source": [
        "print(data.info())"
      ],
      "metadata": {
        "colab": {
          "base_uri": "https://localhost:8080/"
        },
        "id": "wYLGwXkrJjKd",
        "outputId": "765761fc-6daf-4b1f-bd69-4d770f2d2c6c"
      },
      "execution_count": 3,
      "outputs": [
        {
          "output_type": "stream",
          "name": "stdout",
          "text": [
            "<class 'pandas.core.frame.DataFrame'>\n",
            "RangeIndex: 3000 entries, 0 to 2999\n",
            "Data columns (total 23 columns):\n",
            " #   Column                 Non-Null Count  Dtype  \n",
            "---  ------                 --------------  -----  \n",
            " 0   id                     3000 non-null   int64  \n",
            " 1   belongs_to_collection  604 non-null    object \n",
            " 2   budget                 3000 non-null   int64  \n",
            " 3   genres                 2993 non-null   object \n",
            " 4   homepage               946 non-null    object \n",
            " 5   imdb_id                3000 non-null   object \n",
            " 6   original_language      3000 non-null   object \n",
            " 7   original_title         3000 non-null   object \n",
            " 8   overview               2992 non-null   object \n",
            " 9   popularity             3000 non-null   float64\n",
            " 10  poster_path            2999 non-null   object \n",
            " 11  production_companies   2844 non-null   object \n",
            " 12  production_countries   2945 non-null   object \n",
            " 13  release_date           3000 non-null   object \n",
            " 14  runtime                2998 non-null   float64\n",
            " 15  spoken_languages       2980 non-null   object \n",
            " 16  status                 3000 non-null   object \n",
            " 17  tagline                2403 non-null   object \n",
            " 18  title                  3000 non-null   object \n",
            " 19  Keywords               2724 non-null   object \n",
            " 20  cast                   2987 non-null   object \n",
            " 21  crew                   2984 non-null   object \n",
            " 22  revenue                3000 non-null   int64  \n",
            "dtypes: float64(2), int64(3), object(18)\n",
            "memory usage: 539.2+ KB\n",
            "None\n"
          ]
        }
      ]
    },
    {
      "cell_type": "markdown",
      "source": [
        "In pandas, the **dtypes** attribute of a DataFrame shows the data types of each column. These data types are critical because they determine how operations are performed on the data in that column."
      ],
      "metadata": {
        "id": "EYFq1OZTKYeb"
      }
    },
    {
      "cell_type": "code",
      "source": [
        "print(\"Data types of each column:\\n\", data.dtypes)\n"
      ],
      "metadata": {
        "colab": {
          "base_uri": "https://localhost:8080/"
        },
        "id": "jIKOdtzGKXcE",
        "outputId": "9b22ed7e-267d-4c2e-b986-8445678f5466"
      },
      "execution_count": 4,
      "outputs": [
        {
          "output_type": "stream",
          "name": "stdout",
          "text": [
            "Data types of each column:\n",
            " id                         int64\n",
            "belongs_to_collection     object\n",
            "budget                     int64\n",
            "genres                    object\n",
            "homepage                  object\n",
            "imdb_id                   object\n",
            "original_language         object\n",
            "original_title            object\n",
            "overview                  object\n",
            "popularity               float64\n",
            "poster_path               object\n",
            "production_companies      object\n",
            "production_countries      object\n",
            "release_date              object\n",
            "runtime                  float64\n",
            "spoken_languages          object\n",
            "status                    object\n",
            "tagline                   object\n",
            "title                     object\n",
            "Keywords                  object\n",
            "cast                      object\n",
            "crew                      object\n",
            "revenue                    int64\n",
            "dtype: object\n"
          ]
        }
      ]
    },
    {
      "cell_type": "markdown",
      "source": [
        "**isnull().sum()** is a concise way to check for missing (null) values in a pandas DataFrame or Series."
      ],
      "metadata": {
        "id": "O3nK0elmLD9G"
      }
    },
    {
      "cell_type": "code",
      "source": [
        "missing_values = data.isnull().sum()\n",
        "print(\"Missing values in each column:\\n\", missing_values)"
      ],
      "metadata": {
        "id": "58TY3o3yr13y",
        "outputId": "81d83477-3a29-4771-b988-14b0088f25a9",
        "colab": {
          "base_uri": "https://localhost:8080/"
        }
      },
      "execution_count": 5,
      "outputs": [
        {
          "output_type": "stream",
          "name": "stdout",
          "text": [
            "Missing values in each column:\n",
            " id                          0\n",
            "belongs_to_collection    2396\n",
            "budget                      0\n",
            "genres                      7\n",
            "homepage                 2054\n",
            "imdb_id                     0\n",
            "original_language           0\n",
            "original_title              0\n",
            "overview                    8\n",
            "popularity                  0\n",
            "poster_path                 1\n",
            "production_companies      156\n",
            "production_countries       55\n",
            "release_date                0\n",
            "runtime                     2\n",
            "spoken_languages           20\n",
            "status                      0\n",
            "tagline                   597\n",
            "title                       0\n",
            "Keywords                  276\n",
            "cast                       13\n",
            "crew                       16\n",
            "revenue                     0\n",
            "dtype: int64\n"
          ]
        }
      ]
    },
    {
      "cell_type": "markdown",
      "source": [
        "When working with a pandas DataFrame, **columns** refer to the vertical structures that hold data for a specific feature or attribute. Each column has a name (or label) and contains data of a specific type."
      ],
      "metadata": {
        "id": "Kn7VO4XcsXl4"
      }
    },
    {
      "cell_type": "code",
      "source": [
        "print(data.columns)"
      ],
      "metadata": {
        "id": "reVzPy7DsXHr",
        "outputId": "9eeff332-14d3-43a7-def4-1514534781ac",
        "colab": {
          "base_uri": "https://localhost:8080/"
        }
      },
      "execution_count": 6,
      "outputs": [
        {
          "output_type": "stream",
          "name": "stdout",
          "text": [
            "Index(['id', 'belongs_to_collection', 'budget', 'genres', 'homepage',\n",
            "       'imdb_id', 'original_language', 'original_title', 'overview',\n",
            "       'popularity', 'poster_path', 'production_companies',\n",
            "       'production_countries', 'release_date', 'runtime', 'spoken_languages',\n",
            "       'status', 'tagline', 'title', 'Keywords', 'cast', 'crew', 'revenue'],\n",
            "      dtype='object')\n"
          ]
        }
      ]
    },
    {
      "cell_type": "markdown",
      "source": [
        "The **.describe()** method in pandas is used to compute summary statistics for numerical columns in your dataset"
      ],
      "metadata": {
        "id": "1In5GIkQsdup"
      }
    },
    {
      "cell_type": "code",
      "source": [
        "print(data.describe())"
      ],
      "metadata": {
        "id": "Qp4jLmnzsWB5",
        "outputId": "92d1a99d-58e5-4c79-a870-5b999b426b77",
        "colab": {
          "base_uri": "https://localhost:8080/"
        }
      },
      "execution_count": 7,
      "outputs": [
        {
          "output_type": "stream",
          "name": "stdout",
          "text": [
            "                id        budget   popularity      runtime       revenue\n",
            "count  3000.000000  3.000000e+03  3000.000000  2998.000000  3.000000e+03\n",
            "mean   1500.500000  2.253133e+07     8.463274   107.856571  6.672585e+07\n",
            "std     866.169729  3.702609e+07    12.104000    22.086434  1.375323e+08\n",
            "min       1.000000  0.000000e+00     0.000001     0.000000  1.000000e+00\n",
            "25%     750.750000  0.000000e+00     4.018053    94.000000  2.379808e+06\n",
            "50%    1500.500000  8.000000e+06     7.374861   104.000000  1.680707e+07\n",
            "75%    2250.250000  2.900000e+07    10.890983   118.000000  6.891920e+07\n",
            "max    3000.000000  3.800000e+08   294.337037   338.000000  1.519558e+09\n"
          ]
        }
      ]
    },
    {
      "cell_type": "markdown",
      "source": [
        "Converting columns to the **datetime** type in pandas is important because it allows for more efficient handling and manipulation of date and time-related data."
      ],
      "metadata": {
        "id": "BlixVukZsVzo"
      }
    },
    {
      "cell_type": "code",
      "source": [
        "data['release_date'] = pd.to_datetime(data['release_date'], errors='coerce')\n",
        "print(\"Data types after conversion:\\n\", data.dtypes)"
      ],
      "metadata": {
        "id": "9TRNxLHXtQnS",
        "outputId": "264519b7-5a3d-45aa-e1b8-f7eebfaf9c47",
        "colab": {
          "base_uri": "https://localhost:8080/"
        }
      },
      "execution_count": 8,
      "outputs": [
        {
          "output_type": "stream",
          "name": "stdout",
          "text": [
            "Data types after conversion:\n",
            " id                                int64\n",
            "belongs_to_collection            object\n",
            "budget                            int64\n",
            "genres                           object\n",
            "homepage                         object\n",
            "imdb_id                          object\n",
            "original_language                object\n",
            "original_title                   object\n",
            "overview                         object\n",
            "popularity                      float64\n",
            "poster_path                      object\n",
            "production_companies             object\n",
            "production_countries             object\n",
            "release_date             datetime64[ns]\n",
            "runtime                         float64\n",
            "spoken_languages                 object\n",
            "status                           object\n",
            "tagline                          object\n",
            "title                            object\n",
            "Keywords                         object\n",
            "cast                             object\n",
            "crew                             object\n",
            "revenue                           int64\n",
            "dtype: object\n"
          ]
        },
        {
          "output_type": "stream",
          "name": "stderr",
          "text": [
            "<ipython-input-8-50b593a75347>:1: UserWarning: Could not infer format, so each element will be parsed individually, falling back to `dateutil`. To ensure parsing is consistent and as-expected, please specify a format.\n",
            "  data['release_date'] = pd.to_datetime(data['release_date'], errors='coerce')\n"
          ]
        }
      ]
    },
    {
      "cell_type": "code",
      "source": [
        "import pandas as pd\n",
        "import numpy as np\n",
        "import matplotlib.pyplot as plt\n",
        "import seaborn as sns\n",
        "\n",
        "# Load the dataset\n",
        "\n",
        "data = pd.read_csv('Copy of imdb_data.csv')\n",
        "\n",
        "# 1. Basic Dataset Summary\n",
        "# Display the first 5 and last 5 rows\n",
        "print(data.head())\n",
        "print(data.tail())\n",
        "\n",
        "# Summary statistics for numerical columns\n",
        "print(data.describe())\n",
        "\n",
        "# 2. Check for Missing Data\n",
        "missing_values = data.isnull().sum()\n",
        "print(\"Missing values in each column:\\n\", missing_values)\n",
        "\n",
        "# 3. Data Type Check\n",
        "print(\"Data types of each column:\\n\", data.dtypes)\n",
        "\n",
        "# Convert 'release_date' to datetime if not already\n",
        "data['release_date'] = pd.to_datetime(data['release_date'], errors='coerce')\n",
        "print(\"Data types after conversion:\\n\", data.dtypes)\n",
        "\n",
        "# 4. Check for Duplicates\n",
        "duplicates = data.duplicated().sum()\n",
        "print(f\"Number of duplicate rows: {duplicates}\")\n",
        "\n",
        "# Remove duplicates if necessary\n",
        "data = data.drop_duplicates()\n",
        "\n",
        "# 5. Count Unique Values\n",
        "unique_genres = data['genres'].nunique()\n",
        "unique_languages = data['original_language'].nunique()\n",
        "unique_status = data['status'].nunique()\n",
        "print(f\"Unique genres: {unique_genres}, Unique languages: {unique_languages}, Unique status: {unique_status}\")\n",
        "\n",
        "# 6. Find Top 10 Most Expensive Movies\n",
        "top_expensive_movies = data[['title', 'budget']].sort_values(by='budget', ascending=False).head(10)\n",
        "print(\"Top 10 most expensive movies:\\n\", top_expensive_movies)\n",
        "\n",
        "# 7. Movies Released in Specific Year\n",
        "movies_2020 = data[data['release_date'].dt.year == 2020]\n",
        "print(\"Movies released in 2020:\\n\", movies_2020[['title', 'release_date']])\n",
        "\n",
        "# 8. Count Movies with Specific Status\n",
        "status_counts = data['status'].value_counts()\n",
        "print(\"Movies by status:\\n\", status_counts)\n",
        "\n",
        "# 9. Movies with Multiple Genres\n",
        "data['genres_parsed'] = data['genres'].apply(lambda x: [g['name'] for g in eval(x)] if isinstance(x, str) else [])\n",
        "multiple_genres = data[data['genres_parsed'].apply(lambda x: len(x) > 1)]\n",
        "print(f\"Movies with multiple genres: {len(multiple_genres)}\")\n",
        "\n",
        "# 10. Movies with the Longest and Shortest Runtime\n",
        "longest_runtime = data.loc[data['runtime'].idxmax()]\n",
        "shortest_runtime = data.loc[data['runtime'].idxmin()]\n",
        "print(f\"Movie with longest runtime: {longest_runtime['title']} ({longest_runtime['runtime']} minutes)\")\n",
        "print(f\"Movie with shortest runtime: {shortest_runtime['title']} ({shortest_runtime['runtime']} minutes)\")\n",
        "\n",
        "# 11. Top 10 Most Popular Movies\n",
        "top_popular_movies = data[['title', 'popularity']].sort_values(by='popularity', ascending=False).head(10)\n",
        "print(\"Top 10 most popular movies:\\n\", top_popular_movies)\n",
        "\n",
        "# 12. Movies by Language\n",
        "movies_by_language = data['original_language'].value_counts()\n",
        "print(\"Movies by language:\\n\", movies_by_language)\n",
        "\n",
        "# 13. Budget Distribution\n",
        "plt.figure(figsize=(10, 6))\n",
        "sns.histplot(data['budget'], kde=True, bins=30, color='skyblue')\n",
        "plt.title(\"Budget Distribution\")\n",
        "plt.xlabel(\"Budget\")\n",
        "plt.ylabel(\"Frequency\")\n",
        "plt.show()\n",
        "\n",
        "# 14. Average Revenue per Genre\n",
        "# First, we need to parse genres\n",
        "data['genres_parsed'] = data['genres'].apply(lambda x: [g['name'] for g in eval(x)] if isinstance(x, str) else [])\n",
        "genre_revenue = data.explode('genres_parsed').groupby('genres_parsed')['revenue'].mean().sort_values(ascending=False)\n",
        "print(\"Average revenue per genre:\\n\", genre_revenue.head(10))\n",
        "\n",
        "# 15. Top 5 Movies by Revenue\n",
        "top_revenue_movies = data[['title', 'revenue']].sort_values(by='revenue', ascending=False).head(5)\n",
        "print(\"Top 5 movies by revenue:\\n\", top_revenue_movies)\n",
        "\n",
        "# 16. Identify Movies with Missing Overviews\n",
        "missing_overviews = data[data['overview'].isnull()]\n",
        "print(\"Movies with missing overviews:\\n\", missing_overviews[['title', 'overview']])\n",
        "\n",
        "# 17. Revenue Distribution by Genre\n",
        "plt.figure(figsize=(12, 6))\n",
        "# Reset index before plotting to avoid duplicate index issue\n",
        "sns.boxplot(x='genres_parsed', y='revenue', data=data.explode('genres_parsed').reset_index())\n",
        "plt.title(\"Revenue Distribution by Genre\")\n",
        "plt.xlabel(\"Genre\")\n",
        "plt.ylabel(\"Revenue\")\n",
        "plt.xticks(rotation=90)\n",
        "plt.show()\n",
        "\n",
        "# 18. Movies with the Most Keywords\n",
        "# First, count the number of keywords per movie (if applicable)\n",
        "# 18. Movies with the Most Keywords\n",
        "# First, count the number of keywords per movie (if applicable)\n",
        "# Check if 'keywords' column exists before accessing it\n",
        "'''if 'keywords' in data.columns:\n",
        "  data['keyword_count'] = data['keywords'].apply(lambda x: len(eval(x)) if isinstance(x, str) else 0)\n",
        "  movies_most_keywords = data[['title', 'keyword_count']].sort_values(by='keyword_count', ascending=False).head(5)\n",
        "  print(\"Movies with most keywords:\\n\", movies_most_keywords)\n",
        "else:\n",
        "  print(\"The 'keywords' column is not found in the DataFrame.\")\n",
        "\n",
        "data['keyword_count'] = data['keywords'].apply(lambda x: len(eval(x)) if isinstance(x, str) else 0)\n",
        "movies_most_keywords = data[['title', 'keyword_count']].sort_values(by='keyword_count', ascending=False).head(5)\n",
        "print(\"Movies with most keywords:\\n\", movies_most_keywords)'''\n",
        "\n",
        "# 19. Movies Released in Specific Month\n",
        "data['release_month'] = data['release_date'].dt.month\n",
        "movies_in_january = data[data['release_month'] == 1]\n",
        "print(f\"Movies released in January: {len(movies_in_january)}\")\n",
        "\n",
        "# 20. Movies with the Most Cast Members\n",
        "data['cast_count'] = data['cast'].apply(lambda x: len(eval(x)) if isinstance(x, str) else 0)\n",
        "movies_most_cast = data[['title', 'cast_count']].sort_values(by='cast_count', ascending=False).head(5)\n",
        "print(\"Movies with most cast members:\\n\", movies_most_cast)\n"
      ],
      "metadata": {
        "id": "xj0SZ2YtvRou",
        "colab": {
          "base_uri": "https://localhost:8080/",
          "height": 1000
        },
        "outputId": "48877751-96e6-4b53-e336-b256bc5a5006"
      },
      "execution_count": null,
      "outputs": [
        {
          "output_type": "stream",
          "name": "stdout",
          "text": [
            "   id                              belongs_to_collection    budget  \\\n",
            "0   1  [{'id': 313576, 'name': 'Hot Tub Time Machine ...  14000000   \n",
            "1   2  [{'id': 107674, 'name': 'The Princess Diaries ...  40000000   \n",
            "2   3                                                NaN   3300000   \n",
            "3   4                                                NaN   1200000   \n",
            "4   5                                                NaN         0   \n",
            "\n",
            "                                              genres  \\\n",
            "0                     [{'id': 35, 'name': 'Comedy'}]   \n",
            "1  [{'id': 35, 'name': 'Comedy'}, {'id': 18, 'nam...   \n",
            "2                      [{'id': 18, 'name': 'Drama'}]   \n",
            "3  [{'id': 53, 'name': 'Thriller'}, {'id': 18, 'n...   \n",
            "4  [{'id': 28, 'name': 'Action'}, {'id': 53, 'nam...   \n",
            "\n",
            "                            homepage    imdb_id original_language  \\\n",
            "0                                NaN  tt2637294                en   \n",
            "1                                NaN  tt0368933                en   \n",
            "2  http://sonyclassics.com/whiplash/  tt2582802                en   \n",
            "3         http://kahaanithefilm.com/  tt1821480                hi   \n",
            "4                                NaN  tt1380152                ko   \n",
            "\n",
            "                             original_title  \\\n",
            "0                    Hot Tub Time Machine 2   \n",
            "1  The Princess Diaries 2: Royal Engagement   \n",
            "2                                  Whiplash   \n",
            "3                                   Kahaani   \n",
            "4                                      마린보이   \n",
            "\n",
            "                                            overview  popularity  ...  \\\n",
            "0  When Lou, who has become the \"father of the In...    6.575393  ...   \n",
            "1  Mia Thermopolis is now a college graduate and ...    8.248895  ...   \n",
            "2  Under the direction of a ruthless instructor, ...   64.299990  ...   \n",
            "3  Vidya Bagchi (Vidya Balan) arrives in Kolkata ...    3.174936  ...   \n",
            "4  Marine Boy is the story of a former national s...    1.148070  ...   \n",
            "\n",
            "  release_date runtime                                   spoken_languages  \\\n",
            "0      2/20/15    93.0           [{'iso_639_1': 'en', 'name': 'English'}]   \n",
            "1       8/6/04   113.0           [{'iso_639_1': 'en', 'name': 'English'}]   \n",
            "2     10/10/14   105.0           [{'iso_639_1': 'en', 'name': 'English'}]   \n",
            "3       3/9/12   122.0  [{'iso_639_1': 'en', 'name': 'English'}, {'iso...   \n",
            "4       2/5/09   118.0           [{'iso_639_1': 'ko', 'name': '한국어/조선말'}]   \n",
            "\n",
            "     status                                            tagline  \\\n",
            "0  Released  The Laws of Space and Time are About to be Vio...   \n",
            "1  Released  It can take a lifetime to find true love; she'...   \n",
            "2  Released    The road to greatness can take you to the edge.   \n",
            "3  Released                                                NaN   \n",
            "4  Released                                                NaN   \n",
            "\n",
            "                                      title  \\\n",
            "0                    Hot Tub Time Machine 2   \n",
            "1  The Princess Diaries 2: Royal Engagement   \n",
            "2                                  Whiplash   \n",
            "3                                   Kahaani   \n",
            "4                                Marine Boy   \n",
            "\n",
            "                                            Keywords  \\\n",
            "0  [{'id': 4379, 'name': 'time travel'}, {'id': 9...   \n",
            "1  [{'id': 2505, 'name': 'coronation'}, {'id': 42...   \n",
            "2  [{'id': 1416, 'name': 'jazz'}, {'id': 1523, 'n...   \n",
            "3  [{'id': 10092, 'name': 'mystery'}, {'id': 1054...   \n",
            "4                                                NaN   \n",
            "\n",
            "                                                cast  \\\n",
            "0  [{'cast_id': 4, 'character': 'Lou', 'credit_id...   \n",
            "1  [{'cast_id': 1, 'character': 'Mia Thermopolis'...   \n",
            "2  [{'cast_id': 5, 'character': 'Andrew Neimann',...   \n",
            "3  [{'cast_id': 1, 'character': 'Vidya Bagchi', '...   \n",
            "4  [{'cast_id': 3, 'character': 'Chun-soo', 'cred...   \n",
            "\n",
            "                                                crew   revenue  \n",
            "0  [{'credit_id': '59ac067c92514107af02c8c8', 'de...  12314651  \n",
            "1  [{'credit_id': '52fe43fe9251416c7502563d', 'de...  95149435  \n",
            "2  [{'credit_id': '54d5356ec3a3683ba0000039', 'de...  13092000  \n",
            "3  [{'credit_id': '52fe48779251416c9108d6eb', 'de...  16000000  \n",
            "4  [{'credit_id': '52fe464b9251416c75073b43', 'de...   3923970  \n",
            "\n",
            "[5 rows x 23 columns]\n",
            "        id belongs_to_collection    budget  \\\n",
            "2995  2996                   NaN         0   \n",
            "2996  2997                   NaN         0   \n",
            "2997  2998                   NaN  65000000   \n",
            "2998  2999                   NaN  42000000   \n",
            "2999  3000                   NaN  35000000   \n",
            "\n",
            "                                                 genres  \\\n",
            "2995  [{'id': 35, 'name': 'Comedy'}, {'id': 10749, '...   \n",
            "2996  [{'id': 18, 'name': 'Drama'}, {'id': 10402, 'n...   \n",
            "2997  [{'id': 80, 'name': 'Crime'}, {'id': 28, 'name...   \n",
            "2998  [{'id': 35, 'name': 'Comedy'}, {'id': 10749, '...   \n",
            "2999  [{'id': 53, 'name': 'Thriller'}, {'id': 28, 'n...   \n",
            "\n",
            "                              homepage    imdb_id original_language  \\\n",
            "2995                               NaN  tt0109403                en   \n",
            "2996                               NaN  tt2364975                sv   \n",
            "2997                               NaN  tt0116908                en   \n",
            "2998    http://www.alongcamepolly.com/  tt0343135                en   \n",
            "2999  http://www.abductionthefilm.com/  tt1600195                en   \n",
            "\n",
            "               original_title  \\\n",
            "2995                  Chasers   \n",
            "2996              Vi är bäst!   \n",
            "2997  The Long Kiss Goodnight   \n",
            "2998         Along Came Polly   \n",
            "2999                Abduction   \n",
            "\n",
            "                                               overview  popularity  ...  \\\n",
            "2995  Military men Rock Reilly and Eddie Devane are ...    9.853270  ...   \n",
            "2996  Three girls in 1980s Stockholm decide to form ...    3.727996  ...   \n",
            "2997  Samantha Caine, suburban homemaker, is the ide...   14.482345  ...   \n",
            "2998  Reuben Feffer is a guy who's spent his entire ...   15.725542  ...   \n",
            "2999  A young man sets out to uncover the truth abou...   10.512109  ...   \n",
            "\n",
            "     release_date runtime                          spoken_languages    status  \\\n",
            "2995      4/22/94   102.0  [{'iso_639_1': 'en', 'name': 'English'}]  Released   \n",
            "2996      3/28/13   102.0  [{'iso_639_1': 'sv', 'name': 'svenska'}]  Released   \n",
            "2997     10/11/96   120.0  [{'iso_639_1': 'en', 'name': 'English'}]  Released   \n",
            "2998      1/16/04    90.0  [{'iso_639_1': 'en', 'name': 'English'}]  Released   \n",
            "2999      9/22/11   106.0  [{'iso_639_1': 'en', 'name': 'English'}]  Released   \n",
            "\n",
            "                                                tagline  \\\n",
            "2995  It was supposed to be a routine prisoner trans...   \n",
            "2996                                                NaN   \n",
            "2997               What's forgotten is not always gone.   \n",
            "2998  For the most cautious man on Earth, life is ab...   \n",
            "2999          They stole his life. He's taking it back.   \n",
            "\n",
            "                        title  \\\n",
            "2995                  Chasers   \n",
            "2996         We Are the Best!   \n",
            "2997  The Long Kiss Goodnight   \n",
            "2998         Along Came Polly   \n",
            "2999                Abduction   \n",
            "\n",
            "                                               Keywords  \\\n",
            "2995  [{'id': 378, 'name': 'prison'}, {'id': 572, 'n...   \n",
            "2996  [{'id': 1192, 'name': 'sweden'}, {'id': 4470, ...   \n",
            "2997  [{'id': 441, 'name': 'assassination'}, {'id': ...   \n",
            "2998  [{'id': 966, 'name': 'beach'}, {'id': 2676, 'n...   \n",
            "2999  [{'id': 591, 'name': 'cia'}, {'id': 822, 'name...   \n",
            "\n",
            "                                                   cast  \\\n",
            "2995  [{'cast_id': 2, 'character': 'Rock Reilly', 'c...   \n",
            "2996  [{'cast_id': 5, 'character': 'Bobo', 'credit_i...   \n",
            "2997  [{'cast_id': 10, 'character': 'Samantha Caine ...   \n",
            "2998  [{'cast_id': 8, 'character': 'Reuben Feffer', ...   \n",
            "2999  [{'cast_id': 2, 'character': 'Nathan Harper', ...   \n",
            "\n",
            "                                                   crew    revenue  \n",
            "2995  [{'credit_id': '52fe4494c3a368484e02ac7d', 'de...    1596687  \n",
            "2996  [{'credit_id': '5716b72ac3a3686678012c84', 'de...     180590  \n",
            "2997  [{'credit_id': '52fe443a9251416c7502d579', 'de...   89456761  \n",
            "2998  [{'credit_id': '556f817b9251410866000a63', 'de...  171963386  \n",
            "2999  [{'credit_id': '5391990d0e0a260fb5001629', 'de...   82087155  \n",
            "\n",
            "[5 rows x 23 columns]\n",
            "                id        budget   popularity      runtime       revenue\n",
            "count  3000.000000  3.000000e+03  3000.000000  2998.000000  3.000000e+03\n",
            "mean   1500.500000  2.253133e+07     8.463274   107.856571  6.672585e+07\n",
            "std     866.169729  3.702609e+07    12.104000    22.086434  1.375323e+08\n",
            "min       1.000000  0.000000e+00     0.000001     0.000000  1.000000e+00\n",
            "25%     750.750000  0.000000e+00     4.018053    94.000000  2.379808e+06\n",
            "50%    1500.500000  8.000000e+06     7.374861   104.000000  1.680707e+07\n",
            "75%    2250.250000  2.900000e+07    10.890983   118.000000  6.891920e+07\n",
            "max    3000.000000  3.800000e+08   294.337037   338.000000  1.519558e+09\n",
            "Missing values in each column:\n",
            " id                          0\n",
            "belongs_to_collection    2396\n",
            "budget                      0\n",
            "genres                      7\n",
            "homepage                 2054\n",
            "imdb_id                     0\n",
            "original_language           0\n",
            "original_title              0\n",
            "overview                    8\n",
            "popularity                  0\n",
            "poster_path                 1\n",
            "production_companies      156\n",
            "production_countries       55\n",
            "release_date                0\n",
            "runtime                     2\n",
            "spoken_languages           20\n",
            "status                      0\n",
            "tagline                   597\n",
            "title                       0\n",
            "Keywords                  276\n",
            "cast                       13\n",
            "crew                       16\n",
            "revenue                     0\n",
            "dtype: int64\n",
            "Data types of each column:\n",
            " id                         int64\n",
            "belongs_to_collection     object\n",
            "budget                     int64\n",
            "genres                    object\n",
            "homepage                  object\n",
            "imdb_id                   object\n",
            "original_language         object\n",
            "original_title            object\n",
            "overview                  object\n",
            "popularity               float64\n",
            "poster_path               object\n",
            "production_companies      object\n",
            "production_countries      object\n",
            "release_date              object\n",
            "runtime                  float64\n",
            "spoken_languages          object\n",
            "status                    object\n",
            "tagline                   object\n",
            "title                     object\n",
            "Keywords                  object\n",
            "cast                      object\n",
            "crew                      object\n",
            "revenue                    int64\n",
            "dtype: object\n"
          ]
        },
        {
          "output_type": "stream",
          "name": "stderr",
          "text": [
            "<ipython-input-5-759d87c012e1>:26: UserWarning: Could not infer format, so each element will be parsed individually, falling back to `dateutil`. To ensure parsing is consistent and as-expected, please specify a format.\n",
            "  data['release_date'] = pd.to_datetime(data['release_date'], errors='coerce')\n"
          ]
        },
        {
          "output_type": "stream",
          "name": "stdout",
          "text": [
            "Data types after conversion:\n",
            " id                                int64\n",
            "belongs_to_collection            object\n",
            "budget                            int64\n",
            "genres                           object\n",
            "homepage                         object\n",
            "imdb_id                          object\n",
            "original_language                object\n",
            "original_title                   object\n",
            "overview                         object\n",
            "popularity                      float64\n",
            "poster_path                      object\n",
            "production_companies             object\n",
            "production_countries             object\n",
            "release_date             datetime64[ns]\n",
            "runtime                         float64\n",
            "spoken_languages                 object\n",
            "status                           object\n",
            "tagline                          object\n",
            "title                            object\n",
            "Keywords                         object\n",
            "cast                             object\n",
            "crew                             object\n",
            "revenue                           int64\n",
            "dtype: object\n",
            "Number of duplicate rows: 0\n",
            "Unique genres: 872, Unique languages: 36, Unique status: 2\n",
            "Top 10 most expensive movies:\n",
            "                                             title     budget\n",
            "2135  Pirates of the Caribbean: On Stranger Tides  380000000\n",
            "2209     Pirates of the Caribbean: At World's End  300000000\n",
            "2770                      Avengers: Age of Ultron  280000000\n",
            "1425                             Superman Returns  270000000\n",
            "1270                                  John Carter  260000000\n",
            "1630                Transformers: The Last Knight  260000000\n",
            "2532            The Hobbit: An Unexpected Journey  250000000\n",
            "961        Harry Potter and the Half-Blood Prince  250000000\n",
            "906                         The Dark Knight Rises  250000000\n",
            "666           The Hobbit: The Desolation of Smaug  250000000\n",
            "Movies released in 2020:\n",
            " Empty DataFrame\n",
            "Columns: [title, release_date]\n",
            "Index: []\n",
            "Movies by status:\n",
            " status\n",
            "Released    2996\n",
            "Rumored        4\n",
            "Name: count, dtype: int64\n",
            "Movies with multiple genres: 2400\n",
            "Movie with longest runtime: Carlos (338.0 minutes)\n",
            "Movie with shortest runtime: The Worst Christmas of My Life (0.0 minutes)\n",
            "Top 10 most popular movies:\n",
            "                                title  popularity\n",
            "518                     Wonder Woman  294.337037\n",
            "684             Beauty and the Beast  287.253654\n",
            "1695                     Baby Driver  228.032744\n",
            "2326                        Deadpool  187.860492\n",
            "2126  Guardians of the Galaxy Vol. 2  185.330992\n",
            "1309                       Gone Girl  154.801009\n",
            "1715  War for the Planet of the Apes  146.161786\n",
            "1673                 The Dark Knight  123.167259\n",
            "1126                    The Avengers   89.887648\n",
            "2293                      The Circle   88.439243\n",
            "Movies by language:\n",
            " original_language\n",
            "en    2575\n",
            "fr      78\n",
            "ru      47\n",
            "es      43\n",
            "hi      42\n",
            "ja      37\n",
            "it      24\n",
            "cn      20\n",
            "ko      20\n",
            "zh      19\n",
            "de      18\n",
            "ta      16\n",
            "sv       8\n",
            "nl       6\n",
            "pt       6\n",
            "fa       5\n",
            "da       5\n",
            "ro       4\n",
            "hu       3\n",
            "tr       3\n",
            "no       2\n",
            "ml       2\n",
            "pl       2\n",
            "te       2\n",
            "fi       2\n",
            "ur       1\n",
            "he       1\n",
            "el       1\n",
            "ar       1\n",
            "nb       1\n",
            "vi       1\n",
            "mr       1\n",
            "cs       1\n",
            "sr       1\n",
            "bn       1\n",
            "id       1\n",
            "Name: count, dtype: int64\n"
          ]
        },
        {
          "output_type": "error",
          "ename": "KeyboardInterrupt",
          "evalue": "",
          "traceback": [
            "\u001b[0;31m---------------------------------------------------------------------------\u001b[0m",
            "\u001b[0;31mKeyboardInterrupt\u001b[0m                         Traceback (most recent call last)",
            "\u001b[0;32m<ipython-input-5-759d87c012e1>\u001b[0m in \u001b[0;36m<cell line: 79>\u001b[0;34m()\u001b[0m\n\u001b[1;32m     77\u001b[0m \u001b[0mplt\u001b[0m\u001b[0;34m.\u001b[0m\u001b[0mxlabel\u001b[0m\u001b[0;34m(\u001b[0m\u001b[0;34m\"Budget\"\u001b[0m\u001b[0;34m)\u001b[0m\u001b[0;34m\u001b[0m\u001b[0;34m\u001b[0m\u001b[0m\n\u001b[1;32m     78\u001b[0m \u001b[0mplt\u001b[0m\u001b[0;34m.\u001b[0m\u001b[0mylabel\u001b[0m\u001b[0;34m(\u001b[0m\u001b[0;34m\"Frequency\"\u001b[0m\u001b[0;34m)\u001b[0m\u001b[0;34m\u001b[0m\u001b[0;34m\u001b[0m\u001b[0m\n\u001b[0;32m---> 79\u001b[0;31m \u001b[0mplt\u001b[0m\u001b[0;34m.\u001b[0m\u001b[0mshow\u001b[0m\u001b[0;34m(\u001b[0m\u001b[0;34m)\u001b[0m\u001b[0;34m\u001b[0m\u001b[0;34m\u001b[0m\u001b[0m\n\u001b[0m\u001b[1;32m     80\u001b[0m \u001b[0;34m\u001b[0m\u001b[0m\n\u001b[1;32m     81\u001b[0m \u001b[0;31m# 14. Average Revenue per Genre\u001b[0m\u001b[0;34m\u001b[0m\u001b[0;34m\u001b[0m\u001b[0m\n",
            "\u001b[0;32m/usr/local/lib/python3.10/dist-packages/matplotlib/pyplot.py\u001b[0m in \u001b[0;36mshow\u001b[0;34m(*args, **kwargs)\u001b[0m\n\u001b[1;32m    525\u001b[0m     \"\"\"\n\u001b[1;32m    526\u001b[0m     \u001b[0m_warn_if_gui_out_of_main_thread\u001b[0m\u001b[0;34m(\u001b[0m\u001b[0;34m)\u001b[0m\u001b[0;34m\u001b[0m\u001b[0;34m\u001b[0m\u001b[0m\n\u001b[0;32m--> 527\u001b[0;31m     \u001b[0;32mreturn\u001b[0m \u001b[0m_get_backend_mod\u001b[0m\u001b[0;34m(\u001b[0m\u001b[0;34m)\u001b[0m\u001b[0;34m.\u001b[0m\u001b[0mshow\u001b[0m\u001b[0;34m(\u001b[0m\u001b[0;34m*\u001b[0m\u001b[0margs\u001b[0m\u001b[0;34m,\u001b[0m \u001b[0;34m**\u001b[0m\u001b[0mkwargs\u001b[0m\u001b[0;34m)\u001b[0m\u001b[0;34m\u001b[0m\u001b[0;34m\u001b[0m\u001b[0m\n\u001b[0m\u001b[1;32m    528\u001b[0m \u001b[0;34m\u001b[0m\u001b[0m\n\u001b[1;32m    529\u001b[0m \u001b[0;34m\u001b[0m\u001b[0m\n",
            "\u001b[0;32m/usr/local/lib/python3.10/dist-packages/matplotlib_inline/backend_inline.py\u001b[0m in \u001b[0;36mshow\u001b[0;34m(close, block)\u001b[0m\n\u001b[1;32m     88\u001b[0m     \u001b[0;32mtry\u001b[0m\u001b[0;34m:\u001b[0m\u001b[0;34m\u001b[0m\u001b[0;34m\u001b[0m\u001b[0m\n\u001b[1;32m     89\u001b[0m         \u001b[0;32mfor\u001b[0m \u001b[0mfigure_manager\u001b[0m \u001b[0;32min\u001b[0m \u001b[0mGcf\u001b[0m\u001b[0;34m.\u001b[0m\u001b[0mget_all_fig_managers\u001b[0m\u001b[0;34m(\u001b[0m\u001b[0;34m)\u001b[0m\u001b[0;34m:\u001b[0m\u001b[0;34m\u001b[0m\u001b[0;34m\u001b[0m\u001b[0m\n\u001b[0;32m---> 90\u001b[0;31m             display(\n\u001b[0m\u001b[1;32m     91\u001b[0m                 \u001b[0mfigure_manager\u001b[0m\u001b[0;34m.\u001b[0m\u001b[0mcanvas\u001b[0m\u001b[0;34m.\u001b[0m\u001b[0mfigure\u001b[0m\u001b[0;34m,\u001b[0m\u001b[0;34m\u001b[0m\u001b[0;34m\u001b[0m\u001b[0m\n\u001b[1;32m     92\u001b[0m                 \u001b[0mmetadata\u001b[0m\u001b[0;34m=\u001b[0m\u001b[0m_fetch_figure_metadata\u001b[0m\u001b[0;34m(\u001b[0m\u001b[0mfigure_manager\u001b[0m\u001b[0;34m.\u001b[0m\u001b[0mcanvas\u001b[0m\u001b[0;34m.\u001b[0m\u001b[0mfigure\u001b[0m\u001b[0;34m)\u001b[0m\u001b[0;34m\u001b[0m\u001b[0;34m\u001b[0m\u001b[0m\n",
            "\u001b[0;32m/usr/local/lib/python3.10/dist-packages/IPython/core/display.py\u001b[0m in \u001b[0;36mdisplay\u001b[0;34m(include, exclude, metadata, transient, display_id, *objs, **kwargs)\u001b[0m\n\u001b[1;32m    318\u001b[0m             \u001b[0mpublish_display_data\u001b[0m\u001b[0;34m(\u001b[0m\u001b[0mdata\u001b[0m\u001b[0;34m=\u001b[0m\u001b[0mobj\u001b[0m\u001b[0;34m,\u001b[0m \u001b[0mmetadata\u001b[0m\u001b[0;34m=\u001b[0m\u001b[0mmetadata\u001b[0m\u001b[0;34m,\u001b[0m \u001b[0;34m**\u001b[0m\u001b[0mkwargs\u001b[0m\u001b[0;34m)\u001b[0m\u001b[0;34m\u001b[0m\u001b[0;34m\u001b[0m\u001b[0m\n\u001b[1;32m    319\u001b[0m         \u001b[0;32melse\u001b[0m\u001b[0;34m:\u001b[0m\u001b[0;34m\u001b[0m\u001b[0;34m\u001b[0m\u001b[0m\n\u001b[0;32m--> 320\u001b[0;31m             \u001b[0mformat_dict\u001b[0m\u001b[0;34m,\u001b[0m \u001b[0mmd_dict\u001b[0m \u001b[0;34m=\u001b[0m \u001b[0mformat\u001b[0m\u001b[0;34m(\u001b[0m\u001b[0mobj\u001b[0m\u001b[0;34m,\u001b[0m \u001b[0minclude\u001b[0m\u001b[0;34m=\u001b[0m\u001b[0minclude\u001b[0m\u001b[0;34m,\u001b[0m \u001b[0mexclude\u001b[0m\u001b[0;34m=\u001b[0m\u001b[0mexclude\u001b[0m\u001b[0;34m)\u001b[0m\u001b[0;34m\u001b[0m\u001b[0;34m\u001b[0m\u001b[0m\n\u001b[0m\u001b[1;32m    321\u001b[0m             \u001b[0;32mif\u001b[0m \u001b[0;32mnot\u001b[0m \u001b[0mformat_dict\u001b[0m\u001b[0;34m:\u001b[0m\u001b[0;34m\u001b[0m\u001b[0;34m\u001b[0m\u001b[0m\n\u001b[1;32m    322\u001b[0m                 \u001b[0;31m# nothing to display (e.g. _ipython_display_ took over)\u001b[0m\u001b[0;34m\u001b[0m\u001b[0;34m\u001b[0m\u001b[0m\n",
            "\u001b[0;32m/usr/local/lib/python3.10/dist-packages/IPython/core/formatters.py\u001b[0m in \u001b[0;36mformat\u001b[0;34m(self, obj, include, exclude)\u001b[0m\n\u001b[1;32m    178\u001b[0m             \u001b[0mmd\u001b[0m \u001b[0;34m=\u001b[0m \u001b[0;32mNone\u001b[0m\u001b[0;34m\u001b[0m\u001b[0;34m\u001b[0m\u001b[0m\n\u001b[1;32m    179\u001b[0m             \u001b[0;32mtry\u001b[0m\u001b[0;34m:\u001b[0m\u001b[0;34m\u001b[0m\u001b[0;34m\u001b[0m\u001b[0m\n\u001b[0;32m--> 180\u001b[0;31m                 \u001b[0mdata\u001b[0m \u001b[0;34m=\u001b[0m \u001b[0mformatter\u001b[0m\u001b[0;34m(\u001b[0m\u001b[0mobj\u001b[0m\u001b[0;34m)\u001b[0m\u001b[0;34m\u001b[0m\u001b[0;34m\u001b[0m\u001b[0m\n\u001b[0m\u001b[1;32m    181\u001b[0m             \u001b[0;32mexcept\u001b[0m\u001b[0;34m:\u001b[0m\u001b[0;34m\u001b[0m\u001b[0;34m\u001b[0m\u001b[0m\n\u001b[1;32m    182\u001b[0m                 \u001b[0;31m# FIXME: log the exception\u001b[0m\u001b[0;34m\u001b[0m\u001b[0;34m\u001b[0m\u001b[0m\n",
            "\u001b[0;32m<decorator-gen-2>\u001b[0m in \u001b[0;36m__call__\u001b[0;34m(self, obj)\u001b[0m\n",
            "\u001b[0;32m/usr/local/lib/python3.10/dist-packages/IPython/core/formatters.py\u001b[0m in \u001b[0;36mcatch_format_error\u001b[0;34m(method, self, *args, **kwargs)\u001b[0m\n\u001b[1;32m    222\u001b[0m     \u001b[0;34m\"\"\"show traceback on failed format call\"\"\"\u001b[0m\u001b[0;34m\u001b[0m\u001b[0;34m\u001b[0m\u001b[0m\n\u001b[1;32m    223\u001b[0m     \u001b[0;32mtry\u001b[0m\u001b[0;34m:\u001b[0m\u001b[0;34m\u001b[0m\u001b[0;34m\u001b[0m\u001b[0m\n\u001b[0;32m--> 224\u001b[0;31m         \u001b[0mr\u001b[0m \u001b[0;34m=\u001b[0m \u001b[0mmethod\u001b[0m\u001b[0;34m(\u001b[0m\u001b[0mself\u001b[0m\u001b[0;34m,\u001b[0m \u001b[0;34m*\u001b[0m\u001b[0margs\u001b[0m\u001b[0;34m,\u001b[0m \u001b[0;34m**\u001b[0m\u001b[0mkwargs\u001b[0m\u001b[0;34m)\u001b[0m\u001b[0;34m\u001b[0m\u001b[0;34m\u001b[0m\u001b[0m\n\u001b[0m\u001b[1;32m    225\u001b[0m     \u001b[0;32mexcept\u001b[0m \u001b[0mNotImplementedError\u001b[0m\u001b[0;34m:\u001b[0m\u001b[0;34m\u001b[0m\u001b[0;34m\u001b[0m\u001b[0m\n\u001b[1;32m    226\u001b[0m         \u001b[0;31m# don't warn on NotImplementedErrors\u001b[0m\u001b[0;34m\u001b[0m\u001b[0;34m\u001b[0m\u001b[0m\n",
            "\u001b[0;32m/usr/local/lib/python3.10/dist-packages/IPython/core/formatters.py\u001b[0m in \u001b[0;36m__call__\u001b[0;34m(self, obj)\u001b[0m\n\u001b[1;32m    339\u001b[0m                 \u001b[0;32mpass\u001b[0m\u001b[0;34m\u001b[0m\u001b[0;34m\u001b[0m\u001b[0m\n\u001b[1;32m    340\u001b[0m             \u001b[0;32melse\u001b[0m\u001b[0;34m:\u001b[0m\u001b[0;34m\u001b[0m\u001b[0;34m\u001b[0m\u001b[0m\n\u001b[0;32m--> 341\u001b[0;31m                 \u001b[0;32mreturn\u001b[0m \u001b[0mprinter\u001b[0m\u001b[0;34m(\u001b[0m\u001b[0mobj\u001b[0m\u001b[0;34m)\u001b[0m\u001b[0;34m\u001b[0m\u001b[0;34m\u001b[0m\u001b[0m\n\u001b[0m\u001b[1;32m    342\u001b[0m             \u001b[0;31m# Finally look for special method names\u001b[0m\u001b[0;34m\u001b[0m\u001b[0;34m\u001b[0m\u001b[0m\n\u001b[1;32m    343\u001b[0m             \u001b[0mmethod\u001b[0m \u001b[0;34m=\u001b[0m \u001b[0mget_real_method\u001b[0m\u001b[0;34m(\u001b[0m\u001b[0mobj\u001b[0m\u001b[0;34m,\u001b[0m \u001b[0mself\u001b[0m\u001b[0;34m.\u001b[0m\u001b[0mprint_method\u001b[0m\u001b[0;34m)\u001b[0m\u001b[0;34m\u001b[0m\u001b[0;34m\u001b[0m\u001b[0m\n",
            "\u001b[0;32m/usr/local/lib/python3.10/dist-packages/IPython/core/pylabtools.py\u001b[0m in \u001b[0;36mprint_figure\u001b[0;34m(fig, fmt, bbox_inches, base64, **kwargs)\u001b[0m\n\u001b[1;32m    149\u001b[0m         \u001b[0mFigureCanvasBase\u001b[0m\u001b[0;34m(\u001b[0m\u001b[0mfig\u001b[0m\u001b[0;34m)\u001b[0m\u001b[0;34m\u001b[0m\u001b[0;34m\u001b[0m\u001b[0m\n\u001b[1;32m    150\u001b[0m \u001b[0;34m\u001b[0m\u001b[0m\n\u001b[0;32m--> 151\u001b[0;31m     \u001b[0mfig\u001b[0m\u001b[0;34m.\u001b[0m\u001b[0mcanvas\u001b[0m\u001b[0;34m.\u001b[0m\u001b[0mprint_figure\u001b[0m\u001b[0;34m(\u001b[0m\u001b[0mbytes_io\u001b[0m\u001b[0;34m,\u001b[0m \u001b[0;34m**\u001b[0m\u001b[0mkw\u001b[0m\u001b[0;34m)\u001b[0m\u001b[0;34m\u001b[0m\u001b[0;34m\u001b[0m\u001b[0m\n\u001b[0m\u001b[1;32m    152\u001b[0m     \u001b[0mdata\u001b[0m \u001b[0;34m=\u001b[0m \u001b[0mbytes_io\u001b[0m\u001b[0;34m.\u001b[0m\u001b[0mgetvalue\u001b[0m\u001b[0;34m(\u001b[0m\u001b[0;34m)\u001b[0m\u001b[0;34m\u001b[0m\u001b[0;34m\u001b[0m\u001b[0m\n\u001b[1;32m    153\u001b[0m     \u001b[0;32mif\u001b[0m \u001b[0mfmt\u001b[0m \u001b[0;34m==\u001b[0m \u001b[0;34m'svg'\u001b[0m\u001b[0;34m:\u001b[0m\u001b[0;34m\u001b[0m\u001b[0;34m\u001b[0m\u001b[0m\n",
            "\u001b[0;32m/usr/local/lib/python3.10/dist-packages/matplotlib/backend_bases.py\u001b[0m in \u001b[0;36mprint_figure\u001b[0;34m(self, filename, dpi, facecolor, edgecolor, orientation, format, bbox_inches, pad_inches, bbox_extra_artists, backend, **kwargs)\u001b[0m\n\u001b[1;32m   2159\u001b[0m             \u001b[0;32mif\u001b[0m \u001b[0mbbox_inches\u001b[0m\u001b[0;34m:\u001b[0m\u001b[0;34m\u001b[0m\u001b[0;34m\u001b[0m\u001b[0m\n\u001b[1;32m   2160\u001b[0m                 \u001b[0;32mif\u001b[0m \u001b[0mbbox_inches\u001b[0m \u001b[0;34m==\u001b[0m \u001b[0;34m\"tight\"\u001b[0m\u001b[0;34m:\u001b[0m\u001b[0;34m\u001b[0m\u001b[0;34m\u001b[0m\u001b[0m\n\u001b[0;32m-> 2161\u001b[0;31m                     bbox_inches = self.figure.get_tightbbox(\n\u001b[0m\u001b[1;32m   2162\u001b[0m                         renderer, bbox_extra_artists=bbox_extra_artists)\n\u001b[1;32m   2163\u001b[0m                     if (isinstance(layout_engine, ConstrainedLayoutEngine) and\n",
            "\u001b[0;32m/usr/local/lib/python3.10/dist-packages/matplotlib/_api/deprecation.py\u001b[0m in \u001b[0;36mwrapper\u001b[0;34m(*args, **kwargs)\u001b[0m\n\u001b[1;32m    452\u001b[0m                 \u001b[0;34m\"parameter will become keyword-only %(removal)s.\"\u001b[0m\u001b[0;34m,\u001b[0m\u001b[0;34m\u001b[0m\u001b[0;34m\u001b[0m\u001b[0m\n\u001b[1;32m    453\u001b[0m                 name=name, obj_type=f\"parameter of {func.__name__}()\")\n\u001b[0;32m--> 454\u001b[0;31m         \u001b[0;32mreturn\u001b[0m \u001b[0mfunc\u001b[0m\u001b[0;34m(\u001b[0m\u001b[0;34m*\u001b[0m\u001b[0margs\u001b[0m\u001b[0;34m,\u001b[0m \u001b[0;34m**\u001b[0m\u001b[0mkwargs\u001b[0m\u001b[0;34m)\u001b[0m\u001b[0;34m\u001b[0m\u001b[0;34m\u001b[0m\u001b[0m\n\u001b[0m\u001b[1;32m    455\u001b[0m \u001b[0;34m\u001b[0m\u001b[0m\n\u001b[1;32m    456\u001b[0m     \u001b[0;31m# Don't modify *func*'s signature, as boilerplate.py needs it.\u001b[0m\u001b[0;34m\u001b[0m\u001b[0;34m\u001b[0m\u001b[0m\n",
            "\u001b[0;32m/usr/local/lib/python3.10/dist-packages/matplotlib/figure.py\u001b[0m in \u001b[0;36mget_tightbbox\u001b[0;34m(self, renderer, bbox_extra_artists)\u001b[0m\n\u001b[1;32m   1772\u001b[0m \u001b[0;34m\u001b[0m\u001b[0m\n\u001b[1;32m   1773\u001b[0m         \u001b[0;32mfor\u001b[0m \u001b[0ma\u001b[0m \u001b[0;32min\u001b[0m \u001b[0martists\u001b[0m\u001b[0;34m:\u001b[0m\u001b[0;34m\u001b[0m\u001b[0;34m\u001b[0m\u001b[0m\n\u001b[0;32m-> 1774\u001b[0;31m             \u001b[0mbbox\u001b[0m \u001b[0;34m=\u001b[0m \u001b[0ma\u001b[0m\u001b[0;34m.\u001b[0m\u001b[0mget_tightbbox\u001b[0m\u001b[0;34m(\u001b[0m\u001b[0mrenderer\u001b[0m\u001b[0;34m)\u001b[0m\u001b[0;34m\u001b[0m\u001b[0;34m\u001b[0m\u001b[0m\n\u001b[0m\u001b[1;32m   1775\u001b[0m             \u001b[0;32mif\u001b[0m \u001b[0mbbox\u001b[0m \u001b[0;32mis\u001b[0m \u001b[0;32mnot\u001b[0m \u001b[0;32mNone\u001b[0m\u001b[0;34m:\u001b[0m\u001b[0;34m\u001b[0m\u001b[0;34m\u001b[0m\u001b[0m\n\u001b[1;32m   1776\u001b[0m                 \u001b[0mbb\u001b[0m\u001b[0;34m.\u001b[0m\u001b[0mappend\u001b[0m\u001b[0;34m(\u001b[0m\u001b[0mbbox\u001b[0m\u001b[0;34m)\u001b[0m\u001b[0;34m\u001b[0m\u001b[0;34m\u001b[0m\u001b[0m\n",
            "\u001b[0;32m/usr/local/lib/python3.10/dist-packages/matplotlib/artist.py\u001b[0m in \u001b[0;36mget_tightbbox\u001b[0;34m(self, renderer)\u001b[0m\n\u001b[1;32m    364\u001b[0m             \u001b[0mReturns\u001b[0m \u001b[0;32mNone\u001b[0m \u001b[0;32mif\u001b[0m \u001b[0mclipping\u001b[0m \u001b[0mresults\u001b[0m \u001b[0;32min\u001b[0m \u001b[0mno\u001b[0m \u001b[0mintersection\u001b[0m\u001b[0;34m.\u001b[0m\u001b[0;34m\u001b[0m\u001b[0;34m\u001b[0m\u001b[0m\n\u001b[1;32m    365\u001b[0m         \"\"\"\n\u001b[0;32m--> 366\u001b[0;31m         \u001b[0mbbox\u001b[0m \u001b[0;34m=\u001b[0m \u001b[0mself\u001b[0m\u001b[0;34m.\u001b[0m\u001b[0mget_window_extent\u001b[0m\u001b[0;34m(\u001b[0m\u001b[0mrenderer\u001b[0m\u001b[0;34m)\u001b[0m\u001b[0;34m\u001b[0m\u001b[0;34m\u001b[0m\u001b[0m\n\u001b[0m\u001b[1;32m    367\u001b[0m         \u001b[0;32mif\u001b[0m \u001b[0mself\u001b[0m\u001b[0;34m.\u001b[0m\u001b[0mget_clip_on\u001b[0m\u001b[0;34m(\u001b[0m\u001b[0;34m)\u001b[0m\u001b[0;34m:\u001b[0m\u001b[0;34m\u001b[0m\u001b[0;34m\u001b[0m\u001b[0m\n\u001b[1;32m    368\u001b[0m             \u001b[0mclip_box\u001b[0m \u001b[0;34m=\u001b[0m \u001b[0mself\u001b[0m\u001b[0;34m.\u001b[0m\u001b[0mget_clip_box\u001b[0m\u001b[0;34m(\u001b[0m\u001b[0;34m)\u001b[0m\u001b[0;34m\u001b[0m\u001b[0;34m\u001b[0m\u001b[0m\n",
            "\u001b[0;32m/usr/local/lib/python3.10/dist-packages/matplotlib/spines.py\u001b[0m in \u001b[0;36mget_window_extent\u001b[0;34m(self, renderer)\u001b[0m\n\u001b[1;32m    156\u001b[0m             \u001b[0;32mreturn\u001b[0m \u001b[0mbb\u001b[0m\u001b[0;34m\u001b[0m\u001b[0;34m\u001b[0m\u001b[0m\n\u001b[1;32m    157\u001b[0m         \u001b[0mbboxes\u001b[0m \u001b[0;34m=\u001b[0m \u001b[0;34m[\u001b[0m\u001b[0mbb\u001b[0m\u001b[0;34m]\u001b[0m\u001b[0;34m\u001b[0m\u001b[0;34m\u001b[0m\u001b[0m\n\u001b[0;32m--> 158\u001b[0;31m         \u001b[0mdrawn_ticks\u001b[0m \u001b[0;34m=\u001b[0m \u001b[0mself\u001b[0m\u001b[0;34m.\u001b[0m\u001b[0maxis\u001b[0m\u001b[0;34m.\u001b[0m\u001b[0m_update_ticks\u001b[0m\u001b[0;34m(\u001b[0m\u001b[0;34m)\u001b[0m\u001b[0;34m\u001b[0m\u001b[0;34m\u001b[0m\u001b[0m\n\u001b[0m\u001b[1;32m    159\u001b[0m \u001b[0;34m\u001b[0m\u001b[0m\n\u001b[1;32m    160\u001b[0m         \u001b[0mmajor_tick\u001b[0m \u001b[0;34m=\u001b[0m \u001b[0mnext\u001b[0m\u001b[0;34m(\u001b[0m\u001b[0miter\u001b[0m\u001b[0;34m(\u001b[0m\u001b[0;34m{\u001b[0m\u001b[0;34m*\u001b[0m\u001b[0mdrawn_ticks\u001b[0m\u001b[0;34m}\u001b[0m \u001b[0;34m&\u001b[0m \u001b[0;34m{\u001b[0m\u001b[0;34m*\u001b[0m\u001b[0mself\u001b[0m\u001b[0;34m.\u001b[0m\u001b[0maxis\u001b[0m\u001b[0;34m.\u001b[0m\u001b[0mmajorTicks\u001b[0m\u001b[0;34m}\u001b[0m\u001b[0;34m)\u001b[0m\u001b[0;34m,\u001b[0m \u001b[0;32mNone\u001b[0m\u001b[0;34m)\u001b[0m\u001b[0;34m\u001b[0m\u001b[0;34m\u001b[0m\u001b[0m\n",
            "\u001b[0;32m/usr/local/lib/python3.10/dist-packages/matplotlib/axis.py\u001b[0m in \u001b[0;36m_update_ticks\u001b[0;34m(self)\u001b[0m\n\u001b[1;32m   1293\u001b[0m             \u001b[0mview_low\u001b[0m\u001b[0;34m,\u001b[0m \u001b[0mview_high\u001b[0m \u001b[0;34m=\u001b[0m \u001b[0mview_high\u001b[0m\u001b[0;34m,\u001b[0m \u001b[0mview_low\u001b[0m\u001b[0;34m\u001b[0m\u001b[0;34m\u001b[0m\u001b[0m\n\u001b[1;32m   1294\u001b[0m \u001b[0;34m\u001b[0m\u001b[0m\n\u001b[0;32m-> 1295\u001b[0;31m         \u001b[0minterval_t\u001b[0m \u001b[0;34m=\u001b[0m \u001b[0mself\u001b[0m\u001b[0;34m.\u001b[0m\u001b[0mget_transform\u001b[0m\u001b[0;34m(\u001b[0m\u001b[0;34m)\u001b[0m\u001b[0;34m.\u001b[0m\u001b[0mtransform\u001b[0m\u001b[0;34m(\u001b[0m\u001b[0;34m[\u001b[0m\u001b[0mview_low\u001b[0m\u001b[0;34m,\u001b[0m \u001b[0mview_high\u001b[0m\u001b[0;34m]\u001b[0m\u001b[0;34m)\u001b[0m\u001b[0;34m\u001b[0m\u001b[0;34m\u001b[0m\u001b[0m\n\u001b[0m\u001b[1;32m   1296\u001b[0m \u001b[0;34m\u001b[0m\u001b[0m\n\u001b[1;32m   1297\u001b[0m         \u001b[0mticks_to_draw\u001b[0m \u001b[0;34m=\u001b[0m \u001b[0;34m[\u001b[0m\u001b[0;34m]\u001b[0m\u001b[0;34m\u001b[0m\u001b[0;34m\u001b[0m\u001b[0m\n",
            "\u001b[0;32m/usr/local/lib/python3.10/dist-packages/matplotlib/axis.py\u001b[0m in \u001b[0;36mget_transform\u001b[0;34m(self)\u001b[0m\n\u001b[1;32m    786\u001b[0m     \u001b[0;32mdef\u001b[0m \u001b[0mget_transform\u001b[0m\u001b[0;34m(\u001b[0m\u001b[0mself\u001b[0m\u001b[0;34m)\u001b[0m\u001b[0;34m:\u001b[0m\u001b[0;34m\u001b[0m\u001b[0;34m\u001b[0m\u001b[0m\n\u001b[1;32m    787\u001b[0m         \u001b[0;34m\"\"\"Return the transform used in the Axis' scale\"\"\"\u001b[0m\u001b[0;34m\u001b[0m\u001b[0;34m\u001b[0m\u001b[0m\n\u001b[0;32m--> 788\u001b[0;31m         \u001b[0;32mreturn\u001b[0m \u001b[0mself\u001b[0m\u001b[0;34m.\u001b[0m\u001b[0m_scale\u001b[0m\u001b[0;34m.\u001b[0m\u001b[0mget_transform\u001b[0m\u001b[0;34m(\u001b[0m\u001b[0;34m)\u001b[0m\u001b[0;34m\u001b[0m\u001b[0;34m\u001b[0m\u001b[0m\n\u001b[0m\u001b[1;32m    789\u001b[0m \u001b[0;34m\u001b[0m\u001b[0m\n\u001b[1;32m    790\u001b[0m     \u001b[0;32mdef\u001b[0m \u001b[0mget_scale\u001b[0m\u001b[0;34m(\u001b[0m\u001b[0mself\u001b[0m\u001b[0;34m)\u001b[0m\u001b[0;34m:\u001b[0m\u001b[0;34m\u001b[0m\u001b[0;34m\u001b[0m\u001b[0m\n",
            "\u001b[0;32m/usr/local/lib/python3.10/dist-packages/matplotlib/scale.py\u001b[0m in \u001b[0;36mget_transform\u001b[0;34m(self)\u001b[0m\n\u001b[1;32m    113\u001b[0m             \u001b[0maxis\u001b[0m\u001b[0;34m.\u001b[0m\u001b[0mset_minor_locator\u001b[0m\u001b[0;34m(\u001b[0m\u001b[0mNullLocator\u001b[0m\u001b[0;34m(\u001b[0m\u001b[0;34m)\u001b[0m\u001b[0;34m)\u001b[0m\u001b[0;34m\u001b[0m\u001b[0;34m\u001b[0m\u001b[0m\n\u001b[1;32m    114\u001b[0m \u001b[0;34m\u001b[0m\u001b[0m\n\u001b[0;32m--> 115\u001b[0;31m     \u001b[0;32mdef\u001b[0m \u001b[0mget_transform\u001b[0m\u001b[0;34m(\u001b[0m\u001b[0mself\u001b[0m\u001b[0;34m)\u001b[0m\u001b[0;34m:\u001b[0m\u001b[0;34m\u001b[0m\u001b[0;34m\u001b[0m\u001b[0m\n\u001b[0m\u001b[1;32m    116\u001b[0m         \"\"\"\n\u001b[1;32m    117\u001b[0m         \u001b[0mReturn\u001b[0m \u001b[0mthe\u001b[0m \u001b[0mtransform\u001b[0m \u001b[0;32mfor\u001b[0m \u001b[0mlinear\u001b[0m \u001b[0mscaling\u001b[0m\u001b[0;34m,\u001b[0m \u001b[0mwhich\u001b[0m \u001b[0;32mis\u001b[0m \u001b[0mjust\u001b[0m \u001b[0mthe\u001b[0m\u001b[0;34m\u001b[0m\u001b[0;34m\u001b[0m\u001b[0m\n",
            "\u001b[0;31mKeyboardInterrupt\u001b[0m: "
          ]
        }
      ]
    },
    {
      "cell_type": "code",
      "source": [],
      "metadata": {
        "id": "9lhCtFRDNUXG"
      },
      "execution_count": null,
      "outputs": []
    }
  ]
}